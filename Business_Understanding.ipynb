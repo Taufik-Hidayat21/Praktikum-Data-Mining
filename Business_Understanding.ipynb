{
  "nbformat": 4,
  "nbformat_minor": 0,
  "metadata": {
    "colab": {
      "provenance": []
    },
    "kernelspec": {
      "name": "python3",
      "display_name": "Python 3"
    },
    "language_info": {
      "name": "python"
    }
  },
  "cells": [
    {
      "cell_type": "code",
      "execution_count": null,
      "metadata": {
        "id": "oOZ6XyPj2aF2"
      },
      "outputs": [],
      "source": []
    },
    {
      "cell_type": "markdown",
      "source": [
        "# Meningkatkan Kemungkinan Lagu Baru dari Sebuah Artis Menjadi Populer dan Trending Berdasarkan Spotify Dataset Menggunakan Model Supervised Learning\n"
      ],
      "metadata": {
        "id": "ZUMzDoYa4bXA"
      }
    },
    {
      "cell_type": "markdown",
      "source": [
        "## Business Understanding"
      ],
      "metadata": {
        "id": "Cok0X2Z84p2E"
      }
    },
    {
      "cell_type": "markdown",
      "source": [
        "### Business Objective"
      ],
      "metadata": {
        "id": "x78xSKTr42Md"
      }
    },
    {
      "cell_type": "markdown",
      "source": [
        "Tujuan utama analisis pada dataset ini adalah meningkatkan popularitas dan potensi lagu-lagu baru yang akan dirilis oleh musisi. Analisis dilakukan dengan merujuk pada popularitas lagu-lagu yang telah ada di platform Spotify, dengan mempertimbangkan berbagai faktor penilaian yang telah ditentukan untuk setiap lagu. Dengan memahami karakteristik dan tren dari lagu-lagu yang sukses dan populer, kita dapat mengembangkan strategi yang lebih terarah untuk mengoptimalkan potensi keberhasilan lagu-lagu baru di pasar musik yang kompetitif."
      ],
      "metadata": {
        "id": "VZV4se4EJE_X"
      }
    },
    {
      "cell_type": "markdown",
      "source": [
        "### Assess Situation"
      ],
      "metadata": {
        "id": "3gfGx7xt5CvP"
      }
    },
    {
      "cell_type": "markdown",
      "source": [
        "Analisis ini didasari oleh dorongan untuk memperluas popularitas seorang artis musik melalui penilaian mendalam terhadap lagu-lagu yang akan dirilis. Pendekatan ini didasarkan pada kebutuhan mendalam untuk memahami selera dan harapan pendengar, dengan harapan dapat menciptakan karya yang tidak hanya memenuhi ekspektasi pendengar, tetapi juga meraih daya tarik luas. Dengan menganalisis kebutuhan pendengar secara cermat, kita dapat merancang strategi yang lebih terfokus untuk meningkatkan daya tarik setiap rilisan musik yang akan datang."
      ],
      "metadata": {
        "id": "Z9OnY3R6JJGz"
      }
    },
    {
      "cell_type": "markdown",
      "source": [
        "### Data Mining Goals"
      ],
      "metadata": {
        "id": "yYXr5lZq5SM6"
      }
    },
    {
      "cell_type": "markdown",
      "source": [
        "Tujuan dari analisis data ini adalah untuk menentukan pola-pola dari setiap lagu berdasarkan faktor-faktor yang mempengaruhi sebuah lagu yang populer dan trending di platform Spotify seperti durasi, tempo, dan lain-lain. Selanjutnya, rancangan kesuksesan lagu akan dibangun, memberikan pandangan yang dapat membantu dalam mengidentifikasi kesuksesan yang mungkin dapat diadaptasi sebagai strategi pembuatan dan pemasaran lagu-lagu baru di platform Spotify. Dengan demikian, analisis data ini diharapkan dapat memberikan wawasan yang mendalam dan bermanfaat untuk mendukung pengambilan keputusan terkait strategi musik khususnya di platform Spotify."
      ],
      "metadata": {
        "id": "zjnjcFD-JNYf"
      }
    },
    {
      "cell_type": "markdown",
      "source": [
        "### Project Plan"
      ],
      "metadata": {
        "id": "x1P4RqCE5q30"
      }
    },
    {
      "cell_type": "markdown",
      "source": [
        "Proyek ini diawali dengan tahap pengumpulan data dari sumber yang tersedia, yang melibatkan penggalian dataset yang relevan. Setelah itu, karakteristik dataset akan dijelaskan dengan mengidentifikasi variabel kunci terkait karakteristik lagu dan popularitas. Selanjutnya, kita akan melihat data lebih detail untuk mengidentifikasi pola-pola dan tren yang ada. Setelah itu, fokus akan beralih ke tahap preprocessing dan penilaian kualitas data dan analisis lebih lanjut akan dilakukan untuk mengidentifikasi korelasi dan hubungan antara fitur-fitur lagu dan popularitasnya. Pada tahap inti, model prediktif akan dikembangkan untuk memprediksi popularitas lagu, kemudian hasil dari model yang telah diimplementasikan akan digunakan untuk merumuskan rekomendasi dan mengembangkan strategi yang dapat meningkatkan popularitas lagu."
      ],
      "metadata": {
        "id": "Kl4W-WoHJRKH"
      }
    }
  ]
}